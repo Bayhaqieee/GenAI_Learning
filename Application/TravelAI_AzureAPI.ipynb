{
  "nbformat": 4,
  "nbformat_minor": 0,
  "metadata": {
    "colab": {
      "provenance": [],
      "authorship_tag": "ABX9TyPL8PLMrJ8TGjQpLPvqc/7O"
    },
    "kernelspec": {
      "name": "python3",
      "display_name": "Python 3"
    },
    "language_info": {
      "name": "python"
    }
  },
  "cells": [
    {
      "cell_type": "code",
      "source": [
        "!pip install -U langchain-openai langchain_community"
      ],
      "metadata": {
        "colab": {
          "base_uri": "https://localhost:8080/"
        },
        "id": "9KyB4GQ6jBL6",
        "outputId": "fd643a89-09b2-4ab2-a7bb-aa2f58598ac2"
      },
      "execution_count": 1,
      "outputs": [
        {
          "output_type": "stream",
          "name": "stdout",
          "text": [
            "Collecting langchain-openai\n",
            "  Downloading langchain_openai-0.3.28-py3-none-any.whl.metadata (2.3 kB)\n",
            "Collecting langchain_community\n",
            "  Downloading langchain_community-0.3.27-py3-none-any.whl.metadata (2.9 kB)\n",
            "Requirement already satisfied: langchain-core<1.0.0,>=0.3.68 in /usr/local/lib/python3.11/dist-packages (from langchain-openai) (0.3.68)\n",
            "Requirement already satisfied: openai<2.0.0,>=1.86.0 in /usr/local/lib/python3.11/dist-packages (from langchain-openai) (1.94.0)\n",
            "Requirement already satisfied: tiktoken<1,>=0.7 in /usr/local/lib/python3.11/dist-packages (from langchain-openai) (0.9.0)\n",
            "Requirement already satisfied: langchain<1.0.0,>=0.3.26 in /usr/local/lib/python3.11/dist-packages (from langchain_community) (0.3.26)\n",
            "Requirement already satisfied: SQLAlchemy<3,>=1.4 in /usr/local/lib/python3.11/dist-packages (from langchain_community) (2.0.41)\n",
            "Requirement already satisfied: requests<3,>=2 in /usr/local/lib/python3.11/dist-packages (from langchain_community) (2.32.3)\n",
            "Requirement already satisfied: PyYAML>=5.3 in /usr/local/lib/python3.11/dist-packages (from langchain_community) (6.0.2)\n",
            "Requirement already satisfied: aiohttp<4.0.0,>=3.8.3 in /usr/local/lib/python3.11/dist-packages (from langchain_community) (3.11.15)\n",
            "Requirement already satisfied: tenacity!=8.4.0,<10,>=8.1.0 in /usr/local/lib/python3.11/dist-packages (from langchain_community) (8.5.0)\n",
            "Collecting dataclasses-json<0.7,>=0.5.7 (from langchain_community)\n",
            "  Downloading dataclasses_json-0.6.7-py3-none-any.whl.metadata (25 kB)\n",
            "Collecting pydantic-settings<3.0.0,>=2.4.0 (from langchain_community)\n",
            "  Downloading pydantic_settings-2.10.1-py3-none-any.whl.metadata (3.4 kB)\n",
            "Requirement already satisfied: langsmith>=0.1.125 in /usr/local/lib/python3.11/dist-packages (from langchain_community) (0.4.4)\n",
            "Collecting httpx-sse<1.0.0,>=0.4.0 (from langchain_community)\n",
            "  Downloading httpx_sse-0.4.1-py3-none-any.whl.metadata (9.4 kB)\n",
            "Requirement already satisfied: numpy>=1.26.2 in /usr/local/lib/python3.11/dist-packages (from langchain_community) (2.0.2)\n",
            "Requirement already satisfied: aiohappyeyeballs>=2.3.0 in /usr/local/lib/python3.11/dist-packages (from aiohttp<4.0.0,>=3.8.3->langchain_community) (2.6.1)\n",
            "Requirement already satisfied: aiosignal>=1.1.2 in /usr/local/lib/python3.11/dist-packages (from aiohttp<4.0.0,>=3.8.3->langchain_community) (1.4.0)\n",
            "Requirement already satisfied: attrs>=17.3.0 in /usr/local/lib/python3.11/dist-packages (from aiohttp<4.0.0,>=3.8.3->langchain_community) (25.3.0)\n",
            "Requirement already satisfied: frozenlist>=1.1.1 in /usr/local/lib/python3.11/dist-packages (from aiohttp<4.0.0,>=3.8.3->langchain_community) (1.7.0)\n",
            "Requirement already satisfied: multidict<7.0,>=4.5 in /usr/local/lib/python3.11/dist-packages (from aiohttp<4.0.0,>=3.8.3->langchain_community) (6.6.3)\n",
            "Requirement already satisfied: propcache>=0.2.0 in /usr/local/lib/python3.11/dist-packages (from aiohttp<4.0.0,>=3.8.3->langchain_community) (0.3.2)\n",
            "Requirement already satisfied: yarl<2.0,>=1.17.0 in /usr/local/lib/python3.11/dist-packages (from aiohttp<4.0.0,>=3.8.3->langchain_community) (1.20.1)\n",
            "Collecting marshmallow<4.0.0,>=3.18.0 (from dataclasses-json<0.7,>=0.5.7->langchain_community)\n",
            "  Downloading marshmallow-3.26.1-py3-none-any.whl.metadata (7.3 kB)\n",
            "Collecting typing-inspect<1,>=0.4.0 (from dataclasses-json<0.7,>=0.5.7->langchain_community)\n",
            "  Downloading typing_inspect-0.9.0-py3-none-any.whl.metadata (1.5 kB)\n",
            "Requirement already satisfied: langchain-text-splitters<1.0.0,>=0.3.8 in /usr/local/lib/python3.11/dist-packages (from langchain<1.0.0,>=0.3.26->langchain_community) (0.3.8)\n",
            "Requirement already satisfied: pydantic<3.0.0,>=2.7.4 in /usr/local/lib/python3.11/dist-packages (from langchain<1.0.0,>=0.3.26->langchain_community) (2.11.7)\n",
            "Requirement already satisfied: jsonpatch<2.0,>=1.33 in /usr/local/lib/python3.11/dist-packages (from langchain-core<1.0.0,>=0.3.68->langchain-openai) (1.33)\n",
            "Requirement already satisfied: packaging<25,>=23.2 in /usr/local/lib/python3.11/dist-packages (from langchain-core<1.0.0,>=0.3.68->langchain-openai) (24.2)\n",
            "Requirement already satisfied: typing-extensions>=4.7 in /usr/local/lib/python3.11/dist-packages (from langchain-core<1.0.0,>=0.3.68->langchain-openai) (4.14.1)\n",
            "Requirement already satisfied: httpx<1,>=0.23.0 in /usr/local/lib/python3.11/dist-packages (from langsmith>=0.1.125->langchain_community) (0.28.1)\n",
            "Requirement already satisfied: orjson<4.0.0,>=3.9.14 in /usr/local/lib/python3.11/dist-packages (from langsmith>=0.1.125->langchain_community) (3.10.18)\n",
            "Requirement already satisfied: requests-toolbelt<2.0.0,>=1.0.0 in /usr/local/lib/python3.11/dist-packages (from langsmith>=0.1.125->langchain_community) (1.0.0)\n",
            "Requirement already satisfied: zstandard<0.24.0,>=0.23.0 in /usr/local/lib/python3.11/dist-packages (from langsmith>=0.1.125->langchain_community) (0.23.0)\n",
            "Requirement already satisfied: anyio<5,>=3.5.0 in /usr/local/lib/python3.11/dist-packages (from openai<2.0.0,>=1.86.0->langchain-openai) (4.9.0)\n",
            "Requirement already satisfied: distro<2,>=1.7.0 in /usr/local/lib/python3.11/dist-packages (from openai<2.0.0,>=1.86.0->langchain-openai) (1.9.0)\n",
            "Requirement already satisfied: jiter<1,>=0.4.0 in /usr/local/lib/python3.11/dist-packages (from openai<2.0.0,>=1.86.0->langchain-openai) (0.10.0)\n",
            "Requirement already satisfied: sniffio in /usr/local/lib/python3.11/dist-packages (from openai<2.0.0,>=1.86.0->langchain-openai) (1.3.1)\n",
            "Requirement already satisfied: tqdm>4 in /usr/local/lib/python3.11/dist-packages (from openai<2.0.0,>=1.86.0->langchain-openai) (4.67.1)\n",
            "Collecting python-dotenv>=0.21.0 (from pydantic-settings<3.0.0,>=2.4.0->langchain_community)\n",
            "  Downloading python_dotenv-1.1.1-py3-none-any.whl.metadata (24 kB)\n",
            "Requirement already satisfied: typing-inspection>=0.4.0 in /usr/local/lib/python3.11/dist-packages (from pydantic-settings<3.0.0,>=2.4.0->langchain_community) (0.4.1)\n",
            "Requirement already satisfied: charset-normalizer<4,>=2 in /usr/local/lib/python3.11/dist-packages (from requests<3,>=2->langchain_community) (3.4.2)\n",
            "Requirement already satisfied: idna<4,>=2.5 in /usr/local/lib/python3.11/dist-packages (from requests<3,>=2->langchain_community) (3.10)\n",
            "Requirement already satisfied: urllib3<3,>=1.21.1 in /usr/local/lib/python3.11/dist-packages (from requests<3,>=2->langchain_community) (2.4.0)\n",
            "Requirement already satisfied: certifi>=2017.4.17 in /usr/local/lib/python3.11/dist-packages (from requests<3,>=2->langchain_community) (2025.7.9)\n",
            "Requirement already satisfied: greenlet>=1 in /usr/local/lib/python3.11/dist-packages (from SQLAlchemy<3,>=1.4->langchain_community) (3.2.3)\n",
            "Requirement already satisfied: regex>=2022.1.18 in /usr/local/lib/python3.11/dist-packages (from tiktoken<1,>=0.7->langchain-openai) (2024.11.6)\n",
            "Requirement already satisfied: httpcore==1.* in /usr/local/lib/python3.11/dist-packages (from httpx<1,>=0.23.0->langsmith>=0.1.125->langchain_community) (1.0.9)\n",
            "Requirement already satisfied: h11>=0.16 in /usr/local/lib/python3.11/dist-packages (from httpcore==1.*->httpx<1,>=0.23.0->langsmith>=0.1.125->langchain_community) (0.16.0)\n",
            "Requirement already satisfied: jsonpointer>=1.9 in /usr/local/lib/python3.11/dist-packages (from jsonpatch<2.0,>=1.33->langchain-core<1.0.0,>=0.3.68->langchain-openai) (3.0.0)\n",
            "Requirement already satisfied: annotated-types>=0.6.0 in /usr/local/lib/python3.11/dist-packages (from pydantic<3.0.0,>=2.7.4->langchain<1.0.0,>=0.3.26->langchain_community) (0.7.0)\n",
            "Requirement already satisfied: pydantic-core==2.33.2 in /usr/local/lib/python3.11/dist-packages (from pydantic<3.0.0,>=2.7.4->langchain<1.0.0,>=0.3.26->langchain_community) (2.33.2)\n",
            "Collecting mypy-extensions>=0.3.0 (from typing-inspect<1,>=0.4.0->dataclasses-json<0.7,>=0.5.7->langchain_community)\n",
            "  Downloading mypy_extensions-1.1.0-py3-none-any.whl.metadata (1.1 kB)\n",
            "Downloading langchain_openai-0.3.28-py3-none-any.whl (70 kB)\n",
            "\u001b[2K   \u001b[90m━━━━━━━━━━━━━━━━━━━━━━━━━━━━━━━━━━━━━━━━\u001b[0m \u001b[32m70.6/70.6 kB\u001b[0m \u001b[31m1.4 MB/s\u001b[0m eta \u001b[36m0:00:00\u001b[0m\n",
            "\u001b[?25hDownloading langchain_community-0.3.27-py3-none-any.whl (2.5 MB)\n",
            "\u001b[2K   \u001b[90m━━━━━━━━━━━━━━━━━━━━━━━━━━━━━━━━━━━━━━━━\u001b[0m \u001b[32m2.5/2.5 MB\u001b[0m \u001b[31m11.2 MB/s\u001b[0m eta \u001b[36m0:00:00\u001b[0m\n",
            "\u001b[?25hDownloading dataclasses_json-0.6.7-py3-none-any.whl (28 kB)\n",
            "Downloading httpx_sse-0.4.1-py3-none-any.whl (8.1 kB)\n",
            "Downloading pydantic_settings-2.10.1-py3-none-any.whl (45 kB)\n",
            "\u001b[2K   \u001b[90m━━━━━━━━━━━━━━━━━━━━━━━━━━━━━━━━━━━━━━━━\u001b[0m \u001b[32m45.2/45.2 kB\u001b[0m \u001b[31m2.1 MB/s\u001b[0m eta \u001b[36m0:00:00\u001b[0m\n",
            "\u001b[?25hDownloading marshmallow-3.26.1-py3-none-any.whl (50 kB)\n",
            "\u001b[2K   \u001b[90m━━━━━━━━━━━━━━━━━━━━━━━━━━━━━━━━━━━━━━━━\u001b[0m \u001b[32m50.9/50.9 kB\u001b[0m \u001b[31m2.8 MB/s\u001b[0m eta \u001b[36m0:00:00\u001b[0m\n",
            "\u001b[?25hDownloading python_dotenv-1.1.1-py3-none-any.whl (20 kB)\n",
            "Downloading typing_inspect-0.9.0-py3-none-any.whl (8.8 kB)\n",
            "Downloading mypy_extensions-1.1.0-py3-none-any.whl (5.0 kB)\n",
            "Installing collected packages: python-dotenv, mypy-extensions, marshmallow, httpx-sse, typing-inspect, pydantic-settings, dataclasses-json, langchain-openai, langchain_community\n",
            "Successfully installed dataclasses-json-0.6.7 httpx-sse-0.4.1 langchain-openai-0.3.28 langchain_community-0.3.27 marshmallow-3.26.1 mypy-extensions-1.1.0 pydantic-settings-2.10.1 python-dotenv-1.1.1 typing-inspect-0.9.0\n"
          ]
        }
      ]
    },
    {
      "cell_type": "code",
      "source": [
        "import os\n",
        "from google.colab import userdata\n",
        "\n",
        "# Load secrets from Colab's secret manager\n",
        "os.environ[\"AZURE_OPENAI_API_KEY\"] = userdata.get('AZURE_OPENAI_API_KEY')\n",
        "os.environ[\"AZURE_OPENAI_ENDPOINT\"] = userdata.get('AZURE_OPENAI_ENDPOINT')\n",
        "os.environ[\"OPENAI_API_VERSION\"] = userdata.get('OPENAI_API_VERSION')\n",
        "os.environ[\"AZURE_OPENAI_CHAT_DEPLOYMENT_NAME\"] = userdata.get('AZURE_OPENAI_CHAT_DEPLOYMENT_NAME')"
      ],
      "metadata": {
        "id": "HcIrGOprh_O7"
      },
      "execution_count": 2,
      "outputs": []
    },
    {
      "cell_type": "markdown",
      "source": [
        "## Library"
      ],
      "metadata": {
        "id": "0y3yLzYQlPhl"
      }
    },
    {
      "cell_type": "code",
      "source": [
        "from langchain_openai import AzureChatOpenAI\n",
        "from langchain_core.messages import HumanMessage, SystemMessage"
      ],
      "metadata": {
        "id": "EvZ_ID-awIfD"
      },
      "execution_count": 3,
      "outputs": []
    },
    {
      "cell_type": "markdown",
      "source": [
        "## Initialize Model"
      ],
      "metadata": {
        "id": "Txz4tFiTwJMc"
      }
    },
    {
      "cell_type": "code",
      "execution_count": 5,
      "metadata": {
        "colab": {
          "base_uri": "https://localhost:8080/"
        },
        "id": "CyvIWtUEgSD1",
        "outputId": "b3e2d059-e857-4ee6-e96c-d58ad06269a3"
      },
      "outputs": [
        {
          "output_type": "stream",
          "name": "stdout",
          "text": [
            "That sounds like a fantastic trip! West Sumatra, Indonesia is a captivating destination filled with natural beauty, cultural treasures, and delicious Minangkabau cuisine. With 5 days, you can explore the highlights of the region at a comfortable pace. Here's a suggested itinerary to make the most of your trip:\n",
            "\n",
            "---\n",
            "\n",
            "### **Day 1: Arrival in Padang and City Exploration**\n",
            "**Activities**  \n",
            "- **Arrive in Padang**: Most visitors start their journey in Padang, the capital of West Sumatra. Check into your accommodation and get a feel for the city.  \n",
            "- **Visit Padang Beach**: Take a leisurely stroll at **Pantai Padang** (Padang Beach). It’s a great place for sunset views.  \n",
            "- **Adityawarman Museum**: Learn about Minangkabau culture and history at this museum, designed in a traditional West Sumatran house style.  \n",
            "- **Siti Nurbaya Bridge**: Explore the bridge in the evening, when it’s lit up and bustling with locals. Enjoy street snacks like *sate padang*.  \n",
            "- **Dinner**: Dive into local flavors and Minangkabau cuisine—try the famous **Nasi Padang**, a spread of dishes including rendang (a spicy beef stew), cassava leaves, and sambals. I recommend **Pagi Sore Padang Restaurant** for authentic flavors!  \n",
            "\n",
            "**Accommodation**  \n",
            "- Stay in Padang for your first night. Choose a hotel like **Mercure Padang** (mid-range) or a small guesthouse like **Brigitt House** (budget-friendly). \n",
            "\n",
            "---\n",
            "\n",
            "### **Day 2: Bukittinggi and Jam Gadang**\n",
            "**Travel**  \n",
            "- Drive or take a private car from Padang to Bukittinggi (approx. 2-3 hours through scenic mountain roads). You’ll pass lush green hills and picturesque landscapes.  \n",
            "\n",
            "**Activities:**  \n",
            "- **Jam Gadang**: Start with Bukittinggi’s iconic clock tower in the city center. This landmark is a symbol of the city and offers a charming photo op.  \n",
            "- **Fort de Kock and Japanese Tunnels**: Visit this historic fort built during Dutch colonial times and explore the Japanese tunnel (Lobang Jepang), an underground bunker constructed in World War II.  \n",
            "- **Great Wall of Koto Gadang** (*Janjang Koto Gadang*): Take a scenic walk along this mini version of the Great Wall, which offers stunning views of the surrounding valleys and countryside.  \n",
            "- **Bukittinggi Market**: Browse the traditional Pasar Atas market for souvenirs like hand-woven fabrics or traditional Minang snacks.  \n",
            "- **Dinner**: Don’t miss **Itianang Restaurant**, known for its excellent Minangkabau dishes cooked the traditional way.  \n",
            "\n",
            "**Accommodation:**  \n",
            "- Stay overnight in Bukittinggi. Options include **Grand Rocky Hotel** (luxury) or **Lima’s Garden Hotel** (mid-range).\n",
            "\n",
            "---\n",
            "\n",
            "### **Day 3: Nature and Thrills in the Harau Valley**\n",
            "**Activities:**  \n",
            "- **Drive to Harau Valley**: (1.5-hour drive from Bukittinggi). Known as the “land of 1,000 waterfalls,” Harau Valley is a must-see for its dramatic cliffs and lush rice paddies.   \n",
            "- **Explore Waterfalls**: Visit stunning waterfalls like **Sarasah Aka Barayun** or **Sarasah Bunta** for a refreshing experience.  \n",
            "- **Rice Field Walks or Rock Climbing**: Explore the surroundings by foot or, if you’re adventurous, try rock climbing on the massive limestone cliffs.  \n",
            "- **Lunch**: Enjoy a picnic-style lunch in the valley or a local warung (small eatery) serving dishes like grilled fish or curry.  \n",
            "- **Afternoon in Lake Maninjau (optional)**: If time permits, visit the serene **Lake Maninjau**, a volcanic caldera lake about an hour from Harau. The winding roads to the lake (known as Kelok 44 with 44 turns!) showcase epic views.   \n",
            "\n",
            "**Accommodation:**  \n",
            "- Stay in Harau Valley. Opt for unique accommodations like **Abdi Homestay**, which lets you stay close to nature. If you head back to Bukittinggi, stay at your previous hotel.  \n",
            "\n",
            "---\n",
            "\n",
            "### **Day 4: Payakumbuh and Cultural Exploration**  \n",
            "**Activities:**  \n",
            "- **Visit Rumah Gadang**: Check out a traditional Minangkabau house in **Pagaruyung Palace** (Istana Basa Pagaruyung), a replica of the royal residence, near Batusangkar. Admire the detailed wooden carvings and the pointed rooftops distinctive to the culture.  \n",
            "- **Lake Singkarak**: Stop at one of Indonesia’s largest crater lakes. Enjoy the serene views and freshly grilled fish (“ikan bilih,” a lake specialty).  \n",
            "- **Explore Local Villages**: Visit traditional Minangkabau villages around Payakumbuh known for their crafts, such as weaving or wood carvings.  \n",
            "- **Dinner in Padang Panjang**: On your way back to Padang, stop at Padang Panjang for authentic *sate padang*.  \n",
            "\n",
            "**Accommodation:**  \n",
            "- Travel back to Padang in the evening and stay overnight for a convenient departure the next day.  \n",
            "\n",
            "---\n",
            "\n",
            "### **Day 5: Relax and Departure**\n",
            "**Activities:**  \n",
            "- Spend your final morning relaxing or doing some last-minute shopping. Visit **Air Manis Beach** if you have time, known for the legendary Malin Kundang stone (said to be a petrified man from a famous folktale).  \n",
            "- If you’re flying out, sample one last cup of **kopi kawa daun** (coffee-like drink made from roasted coffee leaves) and traditional treats.  \n",
            "- Fly from Padang’s Minangkabau International Airport back to your next destination.\n",
            "\n",
            "---\n",
            "\n",
            "### **Local Cuisine to Try**\n",
            "- **Rendang**: Spicy, slow-cooked beef, often listed among the world’s best dishes.  \n",
            "- **Dendeng Balado**: Thinly sliced beef with fiery chili.  \n",
            "- **Karak Kaliang**: A fried cassava snack popular in Bukittinggi markets.  \n",
            "- **Teh Talua**: A local tea mixed with egg yolk for an energy boost.  \n",
            "- **Palai Bada**: Pepes-style dish with spicy fish wrapped in banana leaves.  \n",
            "\n",
            "---\n",
            "\n",
            "### **Transportation Tips**\n",
            "- **Private Cars/Drivers**: Best for exploring the region comfortably, especially for day trips. This is the most popular option for visitors.  \n",
            "- **Angkot and Buses**: Affordable local transport, but not always tourist-friendly or reliable.  \n",
            "- **Scooter Rental**: Great if you’re comfortable with motorbikes and want flexibility in small towns like Bukittinggi.  \n",
            "- Padang and Bukittinggi are walkable around the main areas of town.  \n",
            "\n",
            "---\n",
            "\n",
            "### **Practical Tips**\n",
            "- **Currency**: Indonesian Rupiah (IDR). Keep cash on hand in smaller denominations as ATMs can be scarce in remote areas.  \n",
            "- **Visas**: Many visitors can get visa-free entry for 30 days (check for your nationality).  \n",
            "- **Weather**: The region is tropical and can get humid with occasional rain. Bring lightweight clothes and a rain jacket.  \n",
            "- **Etiquette**: West Sumatra is predominantly Muslim. Dress modestly and respect local customs, especially in rural areas.  \n",
            "- **Safety**: The area is generally safe, but always be cautious with your belongings in busy markets.\n",
            "\n",
            "---\n",
            "\n",
            "### **Hidden Gems**\n",
            "- **Tarusan Kamang**: A lake near Bukittinggi that mysteriously disappears and reappears depending on the time of year.  \n",
            "- **Sianok Canyon**: A jaw-dropping canyon near Bukittinggi offering hiking trails and breathtaking photography spots.  \n",
            "\n",
            "Enjoy your adventure in West Sumatra, and let me know if you’d like more information on any part of the trip! 😊\n"
          ]
        }
      ],
      "source": [
        "# Initialize AzureChatOpenAI\n",
        "chat = AzureChatOpenAI(\n",
        "    openai_api_version=os.environ[\"OPENAI_API_VERSION\"],\n",
        "    azure_deployment=os.environ[\"AZURE_OPENAI_CHAT_DEPLOYMENT_NAME\"],\n",
        ")\n",
        "\n",
        "messages = [\n",
        "    SystemMessage(content=\"\"\"You are an AI Travel Assistant designed to help users plan comprehensive and enjoyable trips.\n",
        "    Your goal is to provide detailed, practical, and inspiring travel advice.\n",
        "    When a user provides a destination and duration, you should:\n",
        "    1. Suggest a well-structured itinerary, including daily activities, popular attractions, and local experiences.\n",
        "    2. Recommend suitable accommodation types (e.g., budget, mid-range, luxury) and areas to stay.\n",
        "    3. Provide transportation tips (e.g., local transport, car rental, walking).\n",
        "    4. Offer insights into local cuisine and dining recommendations.\n",
        "    5. Include practical advice on currency, visas (if applicable), local customs, and safety.\n",
        "    6. Suggest unique experiences or hidden gems if possible.\n",
        "    7. Maintain a friendly, enthusiastic, and helpful tone.\n",
        "    If you need more information to provide a better recommendation (e.g., user's interests, budget, travel style),\n",
        "    ask clarifying questions. Always aim to make the user's travel planning as smooth and exciting as possible!\n",
        "    \"\"\"),\n",
        "    HumanMessage(content=\"I'm going to West Sumatera Indonesia for 5 days, what can I visit?\")\n",
        "]\n",
        "\n",
        "# Example of how you might use this with a simple invoke (for demonstration)\n",
        "# In a real application, you'd likely build a more complex chain or agent.\n",
        "try:\n",
        "    response = chat.invoke(messages)\n",
        "    print(response.content)\n",
        "except Exception as e:\n",
        "    print(f\"An error occurred: {e}\")\n",
        "    print(\"Please ensure your Azure OpenAI configuration is correct (API key, endpoint, deployment name) and has access to the model.\")\n",
        "\n"
      ]
    },
    {
      "cell_type": "code",
      "source": [],
      "metadata": {
        "id": "EfP9Fb2FninD"
      },
      "execution_count": 4,
      "outputs": []
    }
  ]
}