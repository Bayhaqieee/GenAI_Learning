{
  "nbformat": 4,
  "nbformat_minor": 0,
  "metadata": {
    "colab": {
      "provenance": [],
      "authorship_tag": "ABX9TyP7MK6tVPKc6tiUh5MYBp5k"
    },
    "kernelspec": {
      "name": "python3",
      "display_name": "Python 3"
    },
    "language_info": {
      "name": "python"
    }
  },
  "cells": [
    {
      "cell_type": "markdown",
      "source": [
        "## Library"
      ],
      "metadata": {
        "id": "NNp1i0a7zUD8"
      }
    },
    {
      "cell_type": "code",
      "source": [
        "import numpy as np\n",
        "import torch\n",
        "import torch.nn as nn\n",
        "import torch.nn.functional as F"
      ],
      "metadata": {
        "id": "H6StFNtIzV7s"
      },
      "execution_count": 1,
      "outputs": []
    },
    {
      "cell_type": "markdown",
      "source": [
        "## Function Defining"
      ],
      "metadata": {
        "id": "oVW_Z6LHzYmq"
      }
    },
    {
      "cell_type": "code",
      "source": [
        "# Define query, key and value matrices\n",
        "def generate_data(seq_len, embed_dim):\n",
        "    np.random.seed(42)\n",
        "    return np.random.rand(seq_len, embed_dim)\n",
        "\n",
        "sequence_length = 4\n",
        "embedding_dim = 3\n",
        "query = generate_data(sequence_length, embedding_dim)\n",
        "key = generate_data(sequence_length, embedding_dim)\n",
        "value =generate_data(sequence_length, embedding_dim)\n",
        "\n",
        "# Compute attention scores\n",
        "scores = np.dot(query,key.T) / np.sqrt(embedding_dim)"
      ],
      "metadata": {
        "id": "vsaW1Fwtzc3E"
      },
      "execution_count": 2,
      "outputs": []
    },
    {
      "cell_type": "code",
      "source": [
        "# Apply softmax to normalize scores\n",
        "def softmax(x):\n",
        "    exp_x = np.exp(x - np.max(x, axis=-1, keepdims=True))\n",
        "    return exp_x / exp_x.sum(axis=-1, keepdims=True)\n",
        "\n",
        "attention_weights = softmax(scores)\n",
        "\n",
        "# Compute the context vector\n",
        "context = np.dot(attention_weights, value)\n",
        "\n",
        "print(\"Attention Weights: \\n\",attention_weights)\n",
        "print(\"Contenxt Vector:\\n\", context)"
      ],
      "metadata": {
        "colab": {
          "base_uri": "https://localhost:8080/"
        },
        "id": "HyRGgQaF0IA3",
        "outputId": "598125f6-e6cf-45a4-f8a7-4f598542ddc4"
      },
      "execution_count": 3,
      "outputs": [
        {
          "output_type": "stream",
          "name": "stdout",
          "text": [
            "Attention Weights: \n",
            " [[0.32375051 0.17222556 0.2730973  0.23092663]\n",
            " [0.25716454 0.24560358 0.22609043 0.27114145]\n",
            " [0.31740217 0.17597915 0.28768293 0.21893575]\n",
            " [0.25660171 0.20177529 0.20931951 0.33230349]]\n",
            "Contenxt Vector:\n",
            " [[0.40373714 0.57596851 0.65199056]\n",
            " [0.44847108 0.48422419 0.62544482]\n",
            " [0.39596332 0.58290558 0.64506672]\n",
            " [0.46435514 0.46358349 0.66743626]]\n"
          ]
        }
      ]
    },
    {
      "cell_type": "markdown",
      "source": [
        "## Attention Defining"
      ],
      "metadata": {
        "id": "Sdf3MSj_0Oxn"
      }
    },
    {
      "cell_type": "code",
      "execution_count": 4,
      "metadata": {
        "id": "UUCmryxKyu6K"
      },
      "outputs": [],
      "source": [
        "class MultiHeadAttention(nn.Module):\n",
        "    def __init__(self, embed_dim, num_heads):\n",
        "        super(MultiHeadAttention, self).__init__()\n",
        "        self.embed_dim = embed_dim\n",
        "        self.num_heads = num_heads\n",
        "        self.head_dim = embed_dim // num_heads\n",
        "\n",
        "        assert embed_dim % num_heads == 0, \"Embedding dimension must be divisible by number of heads.\"\n",
        "\n",
        "        self.query = nn.Linear(embed_dim, embed_dim)\n",
        "        self.key = nn.Linear(embed_dim, embed_dim)\n",
        "        self.value = nn.Linear(embed_dim, embed_dim)\n",
        "        self.out = nn.Linear(embed_dim, embed_dim)\n",
        "\n",
        "    def forward(self, x):\n",
        "        batch_size = x.size(0)\n",
        "        # Linear projections\n",
        "        q = self.query(x).view(batch_size, -1, self.num_heads, self.head_dim).transpose(1, 2)\n",
        "        k = self.key(x).view(batch_size, -1, self.num_heads, self.head_dim).transpose(1, 2)\n",
        "        v = self.value(x).view(batch_size, -1, self.num_heads, self.head_dim).transpose(1, 2)\n",
        "\n",
        "        # Compute attention scores\n",
        "        scores = torch.matmul(q, k.transpose(-2, -1)) / np.sqrt(self.head_dim)\n",
        "        attention_weights = F.softmax(scores, dim=-1)\n",
        "\n",
        "        # Compute context\n",
        "        context = torch.matmul(attention_weights, v).transpose(1, 2).contiguous().view(batch_size, -1, self.embed_dim)\n",
        "        return self.out(context), attention_weights"
      ]
    },
    {
      "cell_type": "code",
      "source": [
        "# Sample input\n",
        "seq_len, embed_dim = 4, 8\n",
        "x = torch.rand(1, seq_len, embed_dim)\n",
        "\n",
        "# Instantiate and test\n",
        "mha = MultiHeadAttention(embed_dim, num_heads=2)\n",
        "context, attn_weights = mha(x)\n",
        "print(\"Attention Weights:\\n\", attn_weights)\n",
        "print(\"Context Vector:\\n\", context)\n",
        "\n",
        "import matplotlib.pyplot as plt\n",
        "\n",
        "# Visualize attention weights for a single head\n",
        "plt.matshow(attn_weights[0, 0].detach().numpy(), cmap='viridis')\n",
        "plt.colorbar()\n",
        "plt.title(\"Attention Weights (Head 1)\")\n",
        "plt.show()"
      ],
      "metadata": {
        "colab": {
          "base_uri": "https://localhost:8080/",
          "height": 753
        },
        "id": "l2_bnjkz0Tq7",
        "outputId": "ca10cfe0-d3b1-45bf-c18a-e074e5bfc91e"
      },
      "execution_count": 5,
      "outputs": [
        {
          "output_type": "stream",
          "name": "stdout",
          "text": [
            "Attention Weights:\n",
            " tensor([[[[0.2646, 0.2616, 0.2385, 0.2352],\n",
            "          [0.2593, 0.2629, 0.2343, 0.2434],\n",
            "          [0.2643, 0.2624, 0.2297, 0.2436],\n",
            "          [0.2614, 0.2622, 0.2329, 0.2434]],\n",
            "\n",
            "         [[0.2383, 0.2708, 0.2708, 0.2202],\n",
            "          [0.2375, 0.2744, 0.2704, 0.2177],\n",
            "          [0.2346, 0.2758, 0.2778, 0.2119],\n",
            "          [0.2396, 0.2659, 0.2703, 0.2241]]]], grad_fn=<SoftmaxBackward0>)\n",
            "Context Vector:\n",
            " tensor([[[-0.4313, -0.6841,  0.0181, -0.3465,  0.3534,  0.1876,  0.2122,\n",
            "          -0.7043],\n",
            "         [-0.4305, -0.6825,  0.0186, -0.3454,  0.3533,  0.1873,  0.2121,\n",
            "          -0.7038],\n",
            "         [-0.4306, -0.6822,  0.0177, -0.3453,  0.3533,  0.1887,  0.2132,\n",
            "          -0.7038],\n",
            "         [-0.4310, -0.6829,  0.0181, -0.3452,  0.3520,  0.1866,  0.2110,\n",
            "          -0.7040]]], grad_fn=<ViewBackward0>)\n"
          ]
        },
        {
          "output_type": "display_data",
          "data": {
            "text/plain": [
              "<Figure size 480x480 with 2 Axes>"
            ],
            "image/png": "[encoded data removed]"
          },
          "metadata": {}
        }
      ]
    }
  ]
}